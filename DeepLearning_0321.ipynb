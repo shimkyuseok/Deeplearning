{
 "cells": [
  {
   "cell_type": "code",
   "execution_count": 1,
   "metadata": {
    "collapsed": true
   },
   "outputs": [],
   "source": [
    "import numpy as np\n",
    "import tensorflow as tf\n",
    "import matplotlib.pyplot as plt\n",
    "import time\n",
    "%matplotlib inline"
   ]
  },
  {
   "cell_type": "code",
   "execution_count": 2,
   "metadata": {
    "collapsed": true
   },
   "outputs": [],
   "source": [
    "with tf.device('/gpu:0'):\n",
    "    def next_batch(batch_size , image , label):\n",
    "\n",
    "        a=np.random.randint(np.shape(image)[0] -batch_size)\n",
    "        batch_x = image[a:a+batch_size,:]\n",
    "        batch_y= label[a:a+batch_size,:]\n",
    "        return batch_x, batch_y"
   ]
  },
  {
   "cell_type": "code",
   "execution_count": 3,
   "metadata": {
    "collapsed": true
   },
   "outputs": [],
   "source": [
    "with tf.device('/gpu:0'):\n",
    "    def next_batch(batch_size , image , label):\n",
    "\n",
    "        a=np.random.randint(np.shape(image)[0] -batch_size)\n",
    "        batch_x = image[a:a+batch_size,:]\n",
    "        batch_y= label[a:a+batch_size,:]\n",
    "        return batch_x, batch_y"
   ]
  },
  {
   "cell_type": "code",
   "execution_count": 4,
   "metadata": {
    "collapsed": false
   },
   "outputs": [],
   "source": [
    "train_img=np.load('/home/user01/notebook/Mnist_Data/train_img.npy')\n",
    "train_lab=np.load('/home/user01/notebook/Mnist_Data/train_lab.npy')\n",
    "test_img=np.load('/home/user01/notebook/Mnist_Data/test_img.npy')\n",
    "test_lab=np.load('/home/user01/notebook/Mnist_Data/test_lab.npy')\n",
    "val_img=np.load('/home/user01/notebook/Mnist_Data/val_img.npy')\n",
    "val_lab=np.load('/home/user01/notebook/Mnist_Data/val_lab.npy')"
   ]
  },
  {
   "cell_type": "code",
   "execution_count": 5,
   "metadata": {
    "collapsed": false
   },
   "outputs": [
    {
     "name": "stdout",
     "output_type": "stream",
     "text": [
      "(55000, 784)\n"
     ]
    },
    {
     "data": {
      "text/plain": [
       "(5000, 784)"
      ]
     },
     "execution_count": 5,
     "metadata": {},
     "output_type": "execute_result"
    }
   ],
   "source": [
    "print np.shape(train_img)\n",
    "np.shape(val_img)"
   ]
  },
  {
   "cell_type": "code",
   "execution_count": 6,
   "metadata": {
    "collapsed": false,
    "scrolled": true
   },
   "outputs": [
    {
     "name": "stdout",
     "output_type": "stream",
     "text": [
      "[ 0.  0.  0.  0.  0.  1.  0.  0.  0.  0.]\n"
     ]
    },
    {
     "data": {
      "text/plain": [
       "<matplotlib.image.AxesImage at 0x7fda972fe6d0>"
      ]
     },
     "execution_count": 6,
     "metadata": {},
     "output_type": "execute_result"
    },
    {
     "data": {
      "image/png": "[encoded data removed]",
      "text/plain": [
       "<matplotlib.figure.Figure at 0x7fdaa6a0add0>"
      ]
     },
     "metadata": {},
     "output_type": "display_data"
    }
   ],
   "source": [
    "img=np.reshape(val_img[0] ,newshape=[28,28])\n",
    "lab=val_lab[0]\n",
    "print lab\n",
    "\n",
    "plt.imshow(img, cmap='binary' )"
   ]
  },
  {
   "cell_type": "code",
   "execution_count": 7,
   "metadata": {
    "collapsed": true
   },
   "outputs": [],
   "source": [
    "#x_pre=tf.placeholder(tf.float32 , shape=[None,28,28,1])\n",
    "#x_ = tf.reshape(x_pre , shape=[-1,28*28*1])\n",
    "x_=tf.placeholder(tf.float32 , shape=[None,28*28*1])\n",
    "y_=tf.placeholder(tf.float32 , shape=[None , 10])"
   ]
  },
  {
   "cell_type": "code",
   "execution_count": 8,
   "metadata": {
    "collapsed": false
   },
   "outputs": [
    {
     "name": "stdout",
     "output_type": "stream",
     "text": [
      "Tensor(\"Relu:0\", shape=(?, 10), dtype=float32)\n"
     ]
    }
   ],
   "source": [
    "#Layer1 without Batch Normalization  \n",
    "w1_initial=np.random.normal(size=(28*28*1,10)).astype(np.float32)\n",
    "w1 = tf.Variable(w1_initial)\n",
    "mean_w1 = tf.reduce_mean(w1)\n",
    "b1=tf.Variable(tf.zeros([10]))\n",
    "z1=tf.matmul(x_,w1)+b1\n",
    "l1=tf.nn.relu(z1)\n",
    "print l1\n"
   ]
  },
  {
   "cell_type": "code",
   "execution_count": 9,
   "metadata": {
    "collapsed": false
   },
   "outputs": [],
   "source": [
    "y=tf.nn.softmax(l1)\n",
    "cross_entropy =tf.reduce_mean(-tf.reduce_sum(y_ * tf.log(y), reduction_indices=[1]))\n",
    "train_step =tf.train.GradientDescentOptimizer(0.1).minimize(cross_entropy)\n",
    "correct_prediction = tf.equal(tf.arg_max(y,1) , tf.arg_max(y_ , 1))\n",
    "accuracy = tf.reduce_mean(tf.cast(correct_prediction , tf.float32))"
   ]
  },
  {
   "cell_type": "code",
   "execution_count": 10,
   "metadata": {
    "collapsed": false
   },
   "outputs": [
    {
     "name": "stdout",
     "output_type": "stream",
     "text": [
      "WARNING:tensorflow:From <ipython-input-10-459796c33edc>:2 in <module>.: initialize_all_variables (from tensorflow.python.ops.variables) is deprecated and will be removed after 2017-03-02.\n",
      "Instructions for updating:\n",
      "Use `tf.global_variables_initializer` instead.\n"
     ]
    }
   ],
   "source": [
    "zs , acc= [],[]\n",
    "init=tf.initialize_all_variables()\n",
    "sess = tf.Session()\n",
    "sess.run(init)"
   ]
  },
  {
   "cell_type": "code",
   "execution_count": 11,
   "metadata": {
    "collapsed": false
   },
   "outputs": [
    {
     "name": "stdout",
     "output_type": "stream",
     "text": [
      "step: 0 training 0.0333333            validation 0.0496\n",
      "step: 100 training 0.133333            validation 0.092\n",
      "step: 200 training 0.133333            validation 0.0922\n",
      "step: 300 training 0.0833333            validation 0.0932\n",
      "step: 400 training 0.15            validation 0.0938\n",
      "step: 500 training 0.0333333            validation 0.0938\n",
      "step: 600 training 0.116667            validation 0.094\n",
      "step: 700 training 0.0166667            validation 0.094\n",
      "step: 800 training 0.0833333            validation 0.0938\n",
      "step: 900 training 0.15            validation 0.094\n",
      "step: 1000 training 0.0833333            validation 0.0936\n",
      "step: 1100 training 0.05            validation 0.0938\n",
      "step: 1200 training 0.116667            validation 0.094\n",
      "step: 1300 training 0.1            validation 0.0942\n",
      "step: 1400 training 0.0833333            validation 0.0942\n",
      "step: 1500 training 0.15            validation 0.0944\n",
      "step: 1600 training 0.133333            validation 0.0944\n",
      "step: 1700 training 0.133333            validation 0.0944\n",
      "step: 1800 training 0.116667            validation 0.0942\n",
      "step: 1900 training 0.1            validation 0.0944\n",
      "step: 2000 training 0.0833333            validation 0.0942\n",
      "step: 2100 training 0.1            validation 0.0944\n",
      "step: 2200 training 0.0666667            validation 0.0946\n",
      "step: 2300 training 0.15            validation 0.0946\n",
      "step: 2400 training 0.116667            validation 0.0948\n",
      "step: 2500 training 0.0666667            validation 0.0948\n",
      "step: 2600 training 0.1            validation 0.0946\n",
      "step: 2700 training 0.2            validation 0.0946\n",
      "step: 2800 training 0.133333            validation 0.0946\n",
      "step: 2900 training 0.133333            validation 0.0946\n",
      "step: 3000 training 0.0833333            validation 0.0946\n",
      "step: 3100 training 0.1            validation 0.0946\n",
      "step: 3200 training 0.0666667            validation 0.0946\n",
      "step: 3300 training 0.0666667            validation 0.095\n",
      "step: 3400 training 0.133333            validation 0.0952\n",
      "step: 3500 training 0.0833333            validation 0.0952\n",
      "step: 3600 training 0.1            validation 0.0954\n",
      "step: 3700 training 0.133333            validation 0.0954\n",
      "step: 3800 training 0.1            validation 0.0956\n",
      "step: 3900 training 0.0666667            validation 0.0956\n",
      "step: 4000 training 0.05            validation 0.0956\n",
      "step: 4100 training 0.05            validation 0.0956\n",
      "step: 4200 training 0.116667            validation 0.0958\n",
      "step: 4300 training 0.1            validation 0.0958\n",
      "step: 4400 training 0.15            validation 0.0958\n",
      "step: 4500 training 0.116667            validation 0.0958\n",
      "step: 4600 training 0.0833333            validation 0.0958\n",
      "step: 4700 training 0.1            validation 0.0958\n",
      "step: 4800 training 0.0666667            validation 0.0958\n",
      "step: 4900 training 0.1            validation 0.0958\n",
      "step: 5000 training 0.1            validation 0.096\n",
      "step: 5100 training 0.0666667            validation 0.096\n",
      "step: 5200 training 0.1            validation 0.0958\n",
      "step: 5300 training 0.1            validation 0.0958\n",
      "step: 5400 training 0.0833333            validation 0.0958\n",
      "step: 5500 training 0.116667            validation 0.0956\n",
      "step: 5600 training 0.0833333            validation 0.0956\n",
      "step: 5700 training 0.0833333            validation 0.0956\n",
      "step: 5800 training 0.0833333            validation 0.0956\n",
      "step: 5900 training 0.0333333            validation 0.0956\n",
      "step: 6000 training 0.0666667            validation 0.0956\n",
      "step: 6100 training 0.0666667            validation 0.0956\n",
      "step: 6200 training 0.116667            validation 0.0956\n",
      "step: 6300 training 0.1            validation 0.0956\n",
      "step: 6400 training 0.1            validation 0.0956\n",
      "step: 6500 training 0.0833333            validation 0.0956\n",
      "step: 6600 training 0.1            validation 0.0958\n",
      "step: 6700 training 0.05            validation 0.0958\n",
      "step: 6800 training 0.0833333            validation 0.0958\n",
      "step: 6900 training 0.133333            validation 0.0958\n",
      "step: 7000 training 0.116667            validation 0.0958\n",
      "step: 7100 training 0.0833333            validation 0.0958\n",
      "step: 7200 training 0.05            validation 0.0958\n",
      "step: 7300 training 0.1            validation 0.0958\n",
      "step: 7400 training 0.1            validation 0.0956\n",
      "step: 7500 training 0.0666667            validation 0.0956\n",
      "step: 7600 training 0.15            validation 0.0956\n",
      "step: 7700 training 0.0833333            validation 0.0958\n",
      "step: 7800 training 0.0666667            validation 0.0958\n",
      "step: 7900 training 0.133333            validation 0.0958\n",
      "step: 8000 training 0.0666667            validation 0.0958\n",
      "step: 8100 training 0.0833333            validation 0.096\n",
      "step: 8200 training 0.15            validation 0.096\n",
      "step: 8300 training 0.0833333            validation 0.0962\n",
      "step: 8400 training 0.0666667            validation 0.0964\n",
      "step: 8500 training 0.133333            validation 0.0964\n",
      "step: 8600 training 0.116667            validation 0.0966\n",
      "step: 8700 training 0.15            validation 0.0974\n",
      "step: 8800 training 0.183333            validation 0.099\n",
      "step: 8900 training 0.0333333            validation 0.1016\n",
      "step: 9000 training 0.15            validation 0.1102\n",
      "step: 9100 training 0.1            validation 0.1276\n",
      "step: 9200 training 0.166667            validation 0.1382\n",
      "step: 9300 training 0.1            validation 0.142\n",
      "step: 9400 training 0.166667            validation 0.1494\n",
      "step: 9500 training 0.166667            validation 0.1516\n",
      "step: 9600 training 0.116667            validation 0.1524\n",
      "step: 9700 training 0.15            validation 0.1556\n",
      "step: 9800 training 0.166667            validation 0.1564\n",
      "step: 9900 training 0.183333            validation 0.158\n",
      "test accuracy :  0.1668\n",
      "final output  [[-11.48570156 -23.72338104  -8.84508324 ...,  -3.61278987 -24.53159714\n",
      "   -7.82561922]\n",
      " [-16.58843994 -18.75165176   0.08825779 ..., -16.8387146  -11.21342468\n",
      "  -16.3817215 ]\n",
      " [-16.21126556  -8.86842728  -2.56453657 ...,  -3.85694766 -14.27922535\n",
      "  -14.32644558]\n",
      " ..., \n",
      " [-27.96015167 -45.89809036 -14.98797989 ..., -12.38390255 -42.51336288\n",
      "  -30.34256744]\n",
      " [-14.02756596 -26.9161129  -14.12051582 ..., -20.16233635 -42.89553833\n",
      "  -29.59183121]\n",
      " [-39.67892838 -38.44904327  -7.84628487 ..., -22.79141617 -42.77524948\n",
      "  -41.44997406]]\n",
      "The time taken by Training:  20.11668396\n"
     ]
    }
   ],
   "source": [
    "acc,zs,acc_val , zs_val,w1_mean_list =[],[],[],[],[]\n",
    "start_time=time.time()\n",
    "for i in range(10000):\n",
    "\n",
    "    batch_xs , batch_ys =next_batch( 60 , train_img , train_lab) \n",
    "    sess.run( train_step , feed_dict ={ x_: batch_xs , y_ :batch_ys })\n",
    "    if i%100 is 0:\n",
    "        train_res = sess.run([accuracy , z1 ] , feed_dict = {x_:batch_xs, y_ : batch_ys})\n",
    "        val_res   = sess.run([accuracy , z1 ] , feed_dict = {x_:val_img, y_ : val_lab})\n",
    "        mean   = sess.run(mean_w1 , feed_dict = {x_:val_img, y_ : val_lab})\n",
    "        \n",
    "        print 'step:',i, 'training',train_res[0],'           validation' , val_res[0] \n",
    "        acc.append(train_res[0])\n",
    "        zs.append(np.mean(train_res[1] , axis=0))\n",
    "        w1_mean_list.append(mean)\n",
    "        acc_val.append(val_res[0])\n",
    "        zs_val.append(np.mean(val_res[1] , axis=0))            \n",
    "end_time=time.time()\n",
    "zs , val_zs , acc, acc_val = np.array(zs) , np.array(zs_val) , np.array(acc) , np.array(acc_val)\n",
    "#when we test , through using above 4 parameter we get more higher accuracy \n",
    "test_res = sess.run([accuracy , z1 ] , feed_dict = {x_:test_img, y_ : test_lab})\n",
    "print 'test accuracy : ' , test_res[0] \n",
    "print 'final output ' , test_res[1]\n",
    "print 'The time taken by Training: ',end_time - start_time\n"
   ]
  },
  {
   "cell_type": "code",
   "execution_count": 12,
   "metadata": {
    "collapsed": false
   },
   "outputs": [
    {
     "name": "stdout",
     "output_type": "stream",
     "text": [
      "100\n"
     ]
    },
    {
     "data": {
      "text/plain": [
       "[<matplotlib.lines.Line2D at 0x7fda9409b250>]"
      ]
     },
     "execution_count": 12,
     "metadata": {},
     "output_type": "execute_result"
    },
    {
     "data": {
      "image/png": "[encoded data removed]",
      "text/plain": [
       "<matplotlib.figure.Figure at 0x7fda9711cd10>"
      ]
     },
     "metadata": {},
     "output_type": "display_data"
    }
   ],
   "source": [
    "print len(w1_mean_list)\n",
    "plt.plot(range(0,10000,100) , w1_mean_list)"
   ]
  },
  {
   "cell_type": "code",
   "execution_count": null,
   "metadata": {
    "collapsed": true
   },
   "outputs": [],
   "source": []
  }
 ],
 "metadata": {
  "kernelspec": {
   "display_name": "Python 2",
   "language": "python",
   "name": "python2"
  },
  "language_info": {
   "codemirror_mode": {
    "name": "ipython",
    "version": 2
   },
   "file_extension": ".py",
   "mimetype": "text/x-python",
   "name": "python",
   "nbconvert_exporter": "python",
   "pygments_lexer": "ipython2",
   "version": "2.7.6"
  }
 },
 "nbformat": 4,
 "nbformat_minor": 1
}
